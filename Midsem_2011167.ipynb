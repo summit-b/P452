{
 "cells": [
  {
   "cell_type": "code",
   "execution_count": 45,
   "metadata": {},
   "outputs": [],
   "source": [
    "summit bikram nayak\n",
    "2011167\n",
    "22.02.2024\n",
    "\n",
    "\n",
    "\n",
    "import midsem_library as lib\n",
    "import math\n",
    "import numpy as np\n",
    "import matplotlib.pyplot as plt"
   ]
  },
  {
   "cell_type": "markdown",
   "metadata": {},
   "source": [
    "Question 1"
   ]
  },
  {
   "cell_type": "markdown",
   "metadata": {},
   "source": [
    "f(x)=log(x/2)-sin(5x/2)\n",
    "\n",
    "output:\n",
    "2.201303235202167(regula falsi)\n",
    "2.201303164388981(newtom raphson,1.5)\n",
    "2.2013031648600205(newton_raphson,2.5)\n",
    "\n"
   ]
  },
  {
   "cell_type": "code",
   "execution_count": 46,
   "metadata": {},
   "outputs": [],
   "source": [
    "def f1(x):\n",
    "    f = math.log(x/2) - math.sin(math.radians((5*x)/2))\n",
    "    return f"
   ]
  },
  {
   "cell_type": "code",
   "execution_count": 47,
   "metadata": {},
   "outputs": [
    {
     "name": "stdout",
     "output_type": "stream",
     "text": [
      "2.201303235202167\n",
      "2.201303164388981\n",
      "2.2013031648600205\n"
     ]
    }
   ],
   "source": [
    "a = 1.5\n",
    "b = 2.5\n",
    "nr_guess = 2\n",
    "precision = 1e-6\n",
    "\n",
    "rf_root, rf_list_i, rf_list_f_i, rf_abs_err = lib.regulafalsi(f1, a, b, precision)\n",
    "nr_root_a, nr_list_i_a, nr_abs_err_a = lib.newtonraphson(f1, a, precision)\n",
    "nr_root_b, nr_list_i_b, nr_abs_err_b = lib.newtonraphson(f1, b, precision)\n",
    "\n",
    "print(rf_root)\n",
    "print(nr_root_a)\n",
    "print(nr_root_b)\n",
    "\n"
   ]
  },
  {
   "cell_type": "code",
   "execution_count": 48,
   "metadata": {},
   "outputs": [],
   "source": [
    "#print(\"Convergence table for solution obtained using Regula-Falsi method\")\n",
    "#ml.showConvergenceTable(rf_list_i, rf_abs_err)\n",
    "\n",
    "#print(\"Convergence table for solution obtained using Newton-Raphson method (initial guess = 1.5)\")\n",
    "#ml.showConvergenceTable(nr_list_i_a, nr_abs_err_a)\n",
    "\n",
    "#print(\"Convergence table for solution obtained using Newton-Raphson method (initial guess = 2.5)\")\n",
    "#ml.showConvergenceTable(nr_list_i_b, nr_abs_err_b)"
   ]
  },
  {
   "cell_type": "code",
   "execution_count": 49,
   "metadata": {},
   "outputs": [
    {
     "data": {
      "text/plain": [
       "<matplotlib.legend.Legend at 0x28661e97250>"
      ]
     },
     "execution_count": 49,
     "metadata": {},
     "output_type": "execute_result"
    },
    {
     "data": {
      "image/png": "[encoded data removed]",
      "text/plain": [
       "<Figure size 432x288 with 1 Axes>"
      ]
     },
     "metadata": {
      "needs_background": "light"
     },
     "output_type": "display_data"
    }
   ],
   "source": [
    "plt.plot(rf_list_i, rf_abs_err, label='Regula-Falsi [1.5, 2.5]')\n",
    "plt.plot(nr_list_i_a, nr_abs_err_a, label='Newton-Raphson (Initial guess: 1.5)')\n",
    "plt.plot(nr_list_i_b, nr_abs_err_b, label='Newton-Raphson (Initial guess: 2.5)')\n",
    "plt.title(\"Absolute error vs number of iterations for both methods\")\n",
    "plt.yscale(\"log\")\n",
    "plt.legend()"
   ]
  },
  {
   "cell_type": "markdown",
   "metadata": {},
   "source": [
    "Question 2\n",
    "\n"
   ]
  },
  {
   "cell_type": "markdown",
   "metadata": {},
   "source": [
    "Temperature reaches 100 C at x = 0.37373737373737376"
   ]
  },
  {
   "cell_type": "code",
   "execution_count": 50,
   "metadata": {},
   "outputs": [
    {
     "name": "stdout",
     "output_type": "stream",
     "text": [
      "Temperature reaches 100 C at x = 0.37373737373737376\n"
     ]
    },
    {
     "name": "stderr",
     "output_type": "stream",
     "text": [
      "C:\\Users\\Summit Bikram Nayak\\AppData\\Local\\Temp\\ipykernel_13900\\865485442.py:20: DeprecationWarning: setting an array element with a sequence. This was supported in some cases where the elements are arrays with a single element. For example `np.array([1, np.array([2])], dtype=int)`. In the future this will raise the same ValueError as `np.array([1, [2]], dtype=int)`.\n",
      "  y[0] = y0\n"
     ]
    }
   ],
   "source": [
    "import numpy as np\n",
    "from scipy.optimize import root\n",
    "\n",
    "# Constants\n",
    "alpha = 0.01\n",
    "Ta = 20\n",
    "T0 = 40\n",
    "TL = 200\n",
    "\n",
    "# Differential equation\n",
    "def diff_eq(y, x):\n",
    "    T, z = y\n",
    "    dydx = [z, alpha * (Ta - T)]\n",
    "    return dydx\n",
    "\n",
    "# Runge-Kutta 4 method\n",
    "def rk4(func, y0, x):\n",
    "    n = len(x)\n",
    "    y = np.zeros((n, len(y0)))\n",
    "    y[0] = y0\n",
    "    for i in range(n - 1):\n",
    "        h = x[i+1] - x[i]\n",
    "        k1 = h * np.asarray(func(y[i], x[i]))\n",
    "        k2 = h * np.asarray(func(y[i] + k1/2, x[i] + h/2))\n",
    "        k3 = h * np.asarray(func(y[i] + k2/2, x[i] + h/2))\n",
    "        k4 = h * np.asarray(func(y[i] + k3, x[i] + h))\n",
    "        y[i+1] = y[i] + (k1 + 2*k2 + 2*k3 + k4) / 6\n",
    "    return y\n",
    "\n",
    "# Shooting method\n",
    "def shooting(func, a, b, alpha, beta, U0, V0):\n",
    "    def res(u):  # Boundary condition residual\n",
    "        sol = rk4(func, [alpha, u], x)\n",
    "        return sol[-1][0] - beta\n",
    "    u = root(res, U0).x[0]\n",
    "    sol = rk4(func, [alpha, u], x)\n",
    "    return sol\n",
    "# Solve BVP\n",
    "L = 1  # Length of the rod\n",
    "x = np.linspace(0, L, 100)  # x values\n",
    "sol = shooting(diff_eq, 0, L, T0, TL, U0=1, V0=1)\n",
    "\n",
    "# Find x where T = 100 C\n",
    "idx = np.abs(sol[:, 0] - 100).argmin()\n",
    "x_100 = x[idx]\n",
    "\n",
    "print(f'Temperature reaches 100 C at x = {x_100}')"
   ]
  },
  {
   "cell_type": "markdown",
   "metadata": {},
   "source": [
    "Question 3"
   ]
  },
  {
   "cell_type": "markdown",
   "metadata": {},
   "source": [
    "solve the 1d heat equation u_xx=u_t over a conducting bar of l=2 units kept at 0 C but is heated to 300 C at center at t=0s . choose \\Delta x and \\Delta t with care such that \\del t/(\\del x)**2 << 0.5"
   ]
  },
  {
   "cell_type": "code",
   "execution_count": 51,
   "metadata": {},
   "outputs": [
    {
     "data": {
      "image/png": "[encoded data removed]",
      "text/plain": [
       "<Figure size 432x288 with 2 Axes>"
      ]
     },
     "metadata": {
      "needs_background": "light"
     },
     "output_type": "display_data"
    }
   ],
   "source": [
    "import numpy as np\n",
    "import matplotlib.pyplot as plt\n",
    "\n",
    "# Constants\n",
    "L = 2  # Length of the rod\n",
    "T0 = 300  # Initial temperature at the center\n",
    "Tb = 0  # Boundary temperature\n",
    "k = 1  # Thermal diffusivity, you may need to adjust this\n",
    "\n",
    "# Grid points\n",
    "Nx = 51  # Increase number of spatial grid points\n",
    "Nt =5000   # Decrease number of time steps\n",
    "x = np.linspace(0, L, Nx)  # Spatial grid\n",
    "t = np.linspace(0, 1, Nt)  # Time grid\n",
    "\n",
    "# Ensure stability condition\n",
    "dx = x[1] - x[0]\n",
    "dt = t[1] - t[0]\n",
    "assert dt/dx**2 < 0.5, \"Stability condition not met!\"\n",
    "\n",
    "# Initialize temperature array\n",
    "u = np.zeros((Nt, Nx))\n",
    "u[0, :] = Tb\n",
    "u[0, Nx//2] = T0\n",
    "\n",
    "# Time stepping\n",
    "for n in range(Nt-1):\n",
    "    for i in range(1, Nx-1):\n",
    "        u[n+1, i] = u[n, i] + k*dt/dx**2 * (u[n, i-1] - 2*u[n, i] + u[n, i+1])\n",
    "    u[n+1, 0] = u[n+1, -1] = Tb  # Boundary conditions\n",
    "\n",
    "# Plot\n",
    "plt.imshow(u, extent=[0, L, 0, 1], origin='lower', aspect='auto')\n",
    "plt.colorbar(label='Temperature (C)')\n",
    "plt.xlabel('Position (m)')\n",
    "plt.ylabel('Time (s)')\n",
    "plt.show()"
   ]
  },
  {
   "cell_type": "code",
   "execution_count": null,
   "metadata": {},
   "outputs": [
    {
     "ename": "AttributeError",
     "evalue": "module 'midsem_library' has no attribute 'shooting'",
     "output_type": "error",
     "traceback": [
      "\u001b[1;31m---------------------------------------------------------------------------\u001b[0m\n",
      "\u001b[1;31mAttributeError\u001b[0m                            Traceback (most recent call last)\n",
      "Input \u001b[1;32mIn [26]\u001b[0m, in \u001b[0;36m<cell line: 14>\u001b[1;34m()\u001b[0m\n",
      "\u001b[0;32m     12\u001b[0m L \u001b[38;5;241m=\u001b[39m \u001b[38;5;241m1\u001b[39m  \u001b[38;5;66;03m# Length of the rod\u001b[39;00m\n",
      "\u001b[0;32m     13\u001b[0m x \u001b[38;5;241m=\u001b[39m np\u001b[38;5;241m.\u001b[39mlinspace(\u001b[38;5;241m0\u001b[39m, L, \u001b[38;5;241m100\u001b[39m)  \u001b[38;5;66;03m# x values\u001b[39;00m\n",
      "\u001b[1;32m---> 14\u001b[0m sol \u001b[38;5;241m=\u001b[39m \u001b[43mlib\u001b[49m\u001b[38;5;241;43m.\u001b[39;49m\u001b[43mshooting\u001b[49m(diff_eq, \u001b[38;5;241m0\u001b[39m, L, T0, TL, U0\u001b[38;5;241m=\u001b[39m\u001b[38;5;241m1\u001b[39m, V0\u001b[38;5;241m=\u001b[39m\u001b[38;5;241m1\u001b[39m)\n",
      "\u001b[0;32m     16\u001b[0m \u001b[38;5;66;03m# Find x where T = 100 C\u001b[39;00m\n",
      "\u001b[0;32m     17\u001b[0m idx \u001b[38;5;241m=\u001b[39m np\u001b[38;5;241m.\u001b[39mabs(sol[:, \u001b[38;5;241m0\u001b[39m] \u001b[38;5;241m-\u001b[39m \u001b[38;5;241m100\u001b[39m)\u001b[38;5;241m.\u001b[39margmin()\n",
      "\n",
      "\u001b[1;31mAttributeError\u001b[0m: module 'midsem_library' has no attribute 'shooting'"
     ]
    }
   ],
   "source": [
    "import numpy as np\n",
    "from scipy.optimize import root\n",
    "\n",
    "# Constants\n",
    "alpha = 0.01\n",
    "Ta = 20\n",
    "T0 = 40\n",
    "TL = 200\n",
    "\n",
    "# Differential equation\n",
    "def diff_eq(y, x):\n",
    "    T, z = y\n",
    "    dydx = [z, alpha * (Ta - T)]\n",
    "    return dydx\n",
    "\n",
    "# Runge-Kutta 4 method\n",
    "def rk4(func, y0, x):\n",
    "    n = len(x)\n",
    "    y = np.zeros((n, len(y0)))\n",
    "    y[0] = y0\n",
    "    for i in range(n - 1):\n",
    "        h = x[i+1] - x[i]\n",
    "        k1 = h * np.asarray(func(y[i], x[i]))\n",
    "        k2 = h * np.asarray(func(y[i] + k1/2, x[i] + h/2))\n",
    "        k3 = h * np.asarray(func(y[i] + k2/2, x[i] + h/2))\n",
    "        k4 = h * np.asarray(func(y[i] + k3, x[i] + h))\n",
    "        y[i+1] = y[i] + (k1 + 2*k2 + 2*k3 + k4) / 6\n",
    "    return y\n",
    "\n",
    "# Shooting method\n",
    "def shooting(func, a, b, alpha, beta, U0, V0):\n",
    "    def res(u):  # Boundary condition residual\n",
    "        sol = rk4(func, [alpha, u], x)\n",
    "        return sol[-1][0] - beta\n",
    "    u = root(res, U0).x[0]\n",
    "    sol = rk4(func, [alpha, u], x)\n",
    "    return sol\n",
    "# Solve BVP\n",
    "L = 1  # Length of the rod\n",
    "x = np.linspace(0, L, 100)  # x values\n",
    "sol = lib.shooting(diff_eq, 0, L, T0, TL, U0=1, V0=1)\n",
    "\n",
    "# Find x where T = 100 C\n",
    "idx = np.abs(sol[:, 0] - 100).argmin()\n",
    "x_100 = x[idx]\n",
    "\n",
    "print(f'Temperature reaches 100 C at x = {x_100}')"
   ]
  },
  {
   "cell_type": "markdown",
   "metadata": {},
   "source": [
    "Question 4"
   ]
  },
  {
   "cell_type": "markdown",
   "metadata": {},
   "source": [
    "Q) A 2 meter long beam has a linear mass density \\lambda(x)=x**2, where x is measured from one end. find center of maas of the beam numericallu upto 4 decimal.\n",
    "\n",
    "Outpot: The center of mass of the beam is at x = 1.5000 m"
   ]
  },
  {
   "cell_type": "code",
   "execution_count": 52,
   "metadata": {},
   "outputs": [
    {
     "name": "stdout",
     "output_type": "stream",
     "text": [
      "The center of mass of the beam is at x = 1.5000 m\n"
     ]
    }
   ],
   "source": [
    "import numpy as np\n",
    "from scipy.integrate import quad\n",
    "\n",
    "# Define the linear mass density function\n",
    "lambda_x = lambda x: x**2\n",
    "\n",
    "# Define the limits of integration\n",
    "a = 0  # Start of the beam\n",
    "b = 2  # End of the beam\n",
    "\n",
    "# Calculate the center of mass\n",
    "mass, _ = quad(lambda_x, a, b)\n",
    "center_of_mass, _ = quad(lambda x: x*lambda_x(x), a, b)\n",
    "center_of_mass /= mass\n",
    "\n",
    "# Print the center of mass\n",
    "print(f'The center of mass of the beam is at x = {center_of_mass:.4f} m')"
   ]
  },
  {
   "cell_type": "markdown",
   "metadata": {},
   "source": [
    "5.LU DECOMPOSITION"
   ]
  },
  {
   "cell_type": "code",
   "execution_count": 53,
   "metadata": {},
   "outputs": [
    {
     "name": "stdout",
     "output_type": "stream",
     "text": [
      "LU decomposition (via Crout's method):\n",
      "a_1 = -1.7618170439978513\n",
      "a_2 = 0.8962280338740127\n",
      "a_3 = 4.0519314041161545\n",
      "a_4 = -1.6171308025395394\n",
      "a_5 = 2.0419135385019094\n",
      "a_6 = 0.1518324871559364\n"
     ]
    }
   ],
   "source": [
    "A = [[1,-1,4,0,2,9],[0,5,-2,7,8,4],[1,0,5,7,3,-2],[6,-1,2,3,0,8],[-4,2,0,5,-5,3],[0,7,-1,5,4,-2]]\n",
    "b = [19,2,13,-7,-9,2]\n",
    "\n",
    "crout_result = ml.solveLU(A,b,1)\n",
    "print(\"LU decomposition (via Crout's method):\")\n",
    "print(\"a_1 = \" + str(crout_result[0]))\n",
    "print(\"a_2 = \" + str(crout_result[1]))\n",
    "print(\"a_3 = \" + str(crout_result[2]))\n",
    "print(\"a_4 = \" + str(crout_result[3]))\n",
    "print(\"a_5 = \" + str(crout_result[4]))\n",
    "print(\"a_6 = \" + str(crout_result[5]))"
   ]
  },
  {
   "cell_type": "code",
   "execution_count": 54,
   "metadata": {},
   "outputs": [
    {
     "name": "stdout",
     "output_type": "stream",
     "text": [
      "if b = b_repeat, then the obtained solution is correct:\n",
      "[19.0, 1.999999999999999, 13.0, -6.99999999999994, -9.000000000000004, 2.000000000000002]\n"
     ]
    }
   ],
   "source": [
    "#verifying the solution obtained from LU decomp\n",
    "b_repeat = []\n",
    "for i in range(len(crout_result)):\n",
    "    row_sum = 0\n",
    "    for j in range(len(A[i])):             \n",
    "        row_sum += A[i][j]*crout_result[j] \n",
    "    b_repeat.append(row_sum)               \n",
    "print(\"if b = b_repeat, then the obtained solution is correct:\")\n",
    "print(b_repeat)"
   ]
  }
 ],
 "metadata": {
  "kernelspec": {
   "display_name": "base",
   "language": "python",
   "name": "python3"
  },
  "language_info": {
   "codemirror_mode": {
    "name": "ipython",
    "version": 3
   },
   "file_extension": ".py",
   "mimetype": "text/x-python",
   "name": "python",
   "nbconvert_exporter": "python",
   "pygments_lexer": "ipython3",
   "version": "3.9.12"
  }
 },
 "nbformat": 4,
 "nbformat_minor": 2
}
